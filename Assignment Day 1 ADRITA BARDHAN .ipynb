{
 "cells": [
  {
   "cell_type": "markdown",
   "metadata": {},
   "source": [
    "# Assignment Day 1 | Data Essentials | 6th November 2020"
   ]
  },
  {
   "cell_type": "markdown",
   "metadata": {},
   "source": [
    "# Question 1"
   ]
  },
  {
   "cell_type": "code",
   "execution_count": 1,
   "metadata": {},
   "outputs": [
    {
     "name": "stdout",
     "output_type": "stream",
     "text": [
      "Given options are: \n",
      " A. RANIBOW\n",
      " B. RAINBOW\n",
      " C. BOWRANI\n",
      " D. ROBWANI\n",
      "Jumbled word is: OBANWRI\n",
      "Guess the correct word among the options\n",
      "\n",
      "Your guess: RAINBOW\n",
      "That's it,  You guessed it!\n",
      "\n"
     ]
    }
   ],
   "source": [
    "\n",
    "#Given Jumbled word\n",
    "word=\"OBANWRI\"\n",
    "#Given options\n",
    "options = (\"\\n A. RANIBOW\\n B. RAINBOW\\n C. BOWRANI\\n D. ROBWANI\")\n",
    "print(\"Given options are:\", options) \n",
    "print(\"Jumbled word is:\", word)\n",
    "print(\"Guess the correct word among the options\")\n",
    "correct = \"RAINBOW\"\n",
    "guess = input(\"\\nYour guess: \")\n",
    "\n",
    "while guess != correct and guess != \"\":\n",
    "    print(\"Sorry, that's not it.\")\n",
    "    guess = input(\"Your guess: \")\n",
    "    \n",
    "if guess == correct:\n",
    "    print(\"That's it,  You guessed it!\\n\")\n",
    "\n"
   ]
  },
  {
   "cell_type": "markdown",
   "metadata": {},
   "source": [
    "# Question 2"
   ]
  },
  {
   "cell_type": "code",
   "execution_count": 2,
   "metadata": {},
   "outputs": [
    {
     "name": "stdout",
     "output_type": "stream",
     "text": [
      "\"LETS UPGRADE\"\n"
     ]
    }
   ],
   "source": [
    "print('\"LETS UPGRADE\"')"
   ]
  },
  {
   "cell_type": "markdown",
   "metadata": {},
   "source": [
    "# Question 3"
   ]
  },
  {
   "cell_type": "code",
   "execution_count": 9,
   "metadata": {},
   "outputs": [
    {
     "name": "stdout",
     "output_type": "stream",
     "text": [
      " Enter the Cost Price: 120\n",
      " Enter the Selling Price: 120\n",
      "No Profit, No Loss \n",
      " \n"
     ]
    }
   ],
   "source": [
    "# CP = CostPrice, SP = SellingPrice\n",
    "CP = float(input(\" Enter the Cost Price: \"))\n",
    "SP = float(input(\" Enter the Selling Price: \"))\n",
    "\n",
    "if(CP > SP):\n",
    "   amount = CP - SP\n",
    "   print(\"Total Loss = {0}\".format(amount))\n",
    "\n",
    "elif(SP > CP):\n",
    "   amount = SP - CP\n",
    "   print(\"Total Profit = {0}\".format(amount))\n",
    "\n",
    "else:\n",
    "   print(\"No Profit, No Loss\")"
   ]
  },
  {
   "cell_type": "markdown",
   "metadata": {},
   "source": [
    "# Question 4"
   ]
  },
  {
   "cell_type": "code",
   "execution_count": 3,
   "metadata": {
    "scrolled": true
   },
   "outputs": [
    {
     "name": "stdout",
     "output_type": "stream",
     "text": [
      "Input\n",
      "  20\n",
      "  30\n",
      "Output\n",
      "Profit = 10.0\n"
     ]
    }
   ],
   "source": [
    "# CP = CostPrice, SP = SellingPrice\n",
    "print(\"Input\")\n",
    "CP = float(input(\"  \"))\n",
    "SP = float(input(\"  \"))\n",
    "\n",
    "if(CP > SP):\n",
    "   amount = CP - SP\n",
    "   print(\"Output\")\n",
    "   print(\"Loss = {0}\".format(amount))\n",
    "\n",
    "elif(SP > CP):\n",
    "   amount = SP - CP\n",
    "   print(\"Output\")\n",
    "   print(\"Profit = {0}\".format(amount))\n",
    "\n",
    "else:\n",
    "    print(\"Output\")\n",
    "    print('Neither')"
   ]
  },
  {
   "cell_type": "markdown",
   "metadata": {},
   "source": [
    "# Question 5"
   ]
  },
  {
   "cell_type": "code",
   "execution_count": 5,
   "metadata": {},
   "outputs": [
    {
     "name": "stdout",
     "output_type": "stream",
     "text": [
      "Input\n",
      " 35\n",
      "Output\n",
      "3070.55 €\n"
     ]
    }
   ],
   "source": [
    "print('Input')\n",
    "Rupees = float(input(\" \"))\n",
    "Euro = Rupees * 87.73\n",
    "print('Output')\n",
    "print(Euro,\"€\")"
   ]
  }
 ],
 "metadata": {
  "kernelspec": {
   "display_name": "Python 3",
   "language": "python",
   "name": "python3"
  },
  "language_info": {
   "codemirror_mode": {
    "name": "ipython",
    "version": 3
   },
   "file_extension": ".py",
   "mimetype": "text/x-python",
   "name": "python",
   "nbconvert_exporter": "python",
   "pygments_lexer": "ipython3",
   "version": "3.7.6"
  }
 },
 "nbformat": 4,
 "nbformat_minor": 4
}
